{
 "cells": [
  {
   "cell_type": "code",
   "execution_count": 1,
   "id": "63c34533",
   "metadata": {},
   "outputs": [],
   "source": [
    "import tensorflow as tf\n",
    "import tensorflow_datasets as tfds"
   ]
  },
  {
   "cell_type": "markdown",
   "id": "e990b88c",
   "metadata": {},
   "source": [
    "# demo"
   ]
  },
  {
   "cell_type": "code",
   "execution_count": 2,
   "id": "044c5d79",
   "metadata": {},
   "outputs": [
    {
     "name": "stdout",
     "output_type": "stream",
     "text": [
      "Metal device set to: Apple M1 Pro\n",
      "tf.Tensor([5 0 7], shape=(3,), dtype=int64)\n",
      "tf.Tensor([9 2 6], shape=(3,), dtype=int64)\n",
      "tf.Tensor([8 3 1], shape=(3,), dtype=int64)\n",
      "tf.Tensor([4], shape=(1,), dtype=int64)\n"
     ]
    },
    {
     "name": "stderr",
     "output_type": "stream",
     "text": [
      "2022-06-05 14:47:16.148904: I tensorflow/core/common_runtime/pluggable_device/pluggable_device_factory.cc:305] Could not identify NUMA node of platform GPU ID 0, defaulting to 0. Your kernel may not have been built with NUMA support.\n",
      "2022-06-05 14:47:16.149051: I tensorflow/core/common_runtime/pluggable_device/pluggable_device_factory.cc:271] Created TensorFlow device (/job:localhost/replica:0/task:0/device:GPU:0 with 0 MB memory) -> physical PluggableDevice (device: 0, name: METAL, pci bus id: <undefined>)\n"
     ]
    }
   ],
   "source": [
    "ds = tf.data.Dataset.range(10)\n",
    "ds = ds.shuffle(10)\n",
    "ds = ds.batch(3) # shuffle first, then batch\n",
    "for d in ds:\n",
    "    print(d)"
   ]
  },
  {
   "cell_type": "markdown",
   "id": "4f96896f",
   "metadata": {},
   "source": [
    "# load datasets"
   ]
  },
  {
   "cell_type": "code",
   "execution_count": 3,
   "id": "6a1dca18",
   "metadata": {},
   "outputs": [],
   "source": [
    "def load_dataset(dataset_name, batch_size, transform_fn=None, data_dir='./tensorflow_datasets/'):\n",
    "    ds_train, ds_info = tfds.load(dataset_name, split='train', shuffle_files=True,\n",
    "                                  data_dir=data_dir, as_supervised=True, with_info=True)\n",
    "    ds_test = tfds.load(dataset_name, split='test', shuffle_files=True,\n",
    "                        data_dir=data_dir, as_supervised=True)\n",
    "    if transform_fn is not None: # transform data element-wise\n",
    "        ds_train = ds_train.map(transform_fn)\n",
    "        ds_test = ds_test.map(transform_fn)\n",
    "    train_full_size = ds_info.splits['train'].num_examples\n",
    "    test_full_size = ds_info.splits['test'].num_examples\n",
    "    ds_train = ds_train.shuffle(train_full_size)\n",
    "    ds_test = ds_test.shuffle(test_full_size)\n",
    "    ds_train = ds_train.batch(batch_size)\n",
    "    ds_test = ds_test.batch(batch_size)\n",
    "    return ds_train, ds_test  # return tf.data.Dataset as iterable"
   ]
  },
  {
   "cell_type": "code",
   "execution_count": 4,
   "id": "95b3c9e0",
   "metadata": {},
   "outputs": [],
   "source": [
    "ds_train, ds_test = load_dataset('mnist', 128, transform_fn=None)"
   ]
  },
  {
   "cell_type": "code",
   "execution_count": 5,
   "id": "79b132ce",
   "metadata": {},
   "outputs": [
    {
     "name": "stderr",
     "output_type": "stream",
     "text": [
      "2022-06-05 14:47:16.237537: W tensorflow/core/platform/profile_utils/cpu_utils.cc:128] Failed to get CPU frequency: 0 Hz\n"
     ]
    },
    {
     "name": "stdout",
     "output_type": "stream",
     "text": [
      "tf.Tensor([128  28  28   1], shape=(4,), dtype=int32)\n",
      "tf.Tensor([128], shape=(1,), dtype=int32)\n",
      "tf.Tensor(\n",
      "[4 2 5 0 9 8 9 2 8 1 7 7 3 1 2 0 2 5 6 1 6 0 7 9 1 0 0 7 2 1 5 5 8 8 9 1 7\n",
      " 8 0 3 2 6 6 0 0 6 9 1 0 0 8 0 5 8 6 2 8 5 5 7 8 4 4 8 4 0 5 3 3 8 2 1 3 6\n",
      " 3 8 1 3 2 6 0 7 0 2 0 3 9 6 3 4 0 8 2 0 7 1 0 1 3 3 7 2 6 9 1 8 9 6 3 8 9\n",
      " 1 2 1 4 3 4 6 4 2 5 8 0 8 2 9 1 2], shape=(128,), dtype=int64)\n"
     ]
    }
   ],
   "source": [
    "for imgs, labels in ds_train:\n",
    "    print(tf.shape(imgs))\n",
    "    print(tf.shape(labels))\n",
    "    print(labels)\n",
    "    break"
   ]
  },
  {
   "cell_type": "code",
   "execution_count": 6,
   "id": "88d1cbff",
   "metadata": {},
   "outputs": [],
   "source": [
    "def normalize_MNIST(img, label):\n",
    "    img = tf.cast(tf.reshape(img, [28 * 28]), tf.float32) / 255. - 0.5\n",
    "    label = tf.cast(tf.reshape(label, [1]), tf.float32)\n",
    "    return img, label"
   ]
  },
  {
   "cell_type": "code",
   "execution_count": 7,
   "id": "5eba9f01",
   "metadata": {},
   "outputs": [],
   "source": [
    "ds_train, ds_test = load_dataset('mnist', 128, transform_fn=normalize_MNIST)"
   ]
  },
  {
   "cell_type": "code",
   "execution_count": 8,
   "id": "d5300837",
   "metadata": {},
   "outputs": [
    {
     "name": "stdout",
     "output_type": "stream",
     "text": [
      "tf.Tensor([128 784], shape=(2,), dtype=int32)\n",
      "tf.Tensor([128   1], shape=(2,), dtype=int32)\n",
      "tf.Tensor(\n",
      "[[2.]\n",
      " [2.]\n",
      " [0.]\n",
      " [1.]\n",
      " [1.]\n",
      " [2.]\n",
      " [4.]\n",
      " [4.]\n",
      " [8.]\n",
      " [6.]\n",
      " [3.]\n",
      " [4.]\n",
      " [6.]\n",
      " [6.]\n",
      " [4.]\n",
      " [7.]\n",
      " [2.]\n",
      " [6.]\n",
      " [2.]\n",
      " [0.]\n",
      " [3.]\n",
      " [0.]\n",
      " [1.]\n",
      " [3.]\n",
      " [6.]\n",
      " [2.]\n",
      " [5.]\n",
      " [9.]\n",
      " [8.]\n",
      " [6.]\n",
      " [8.]\n",
      " [3.]\n",
      " [8.]\n",
      " [7.]\n",
      " [9.]\n",
      " [0.]\n",
      " [6.]\n",
      " [0.]\n",
      " [3.]\n",
      " [2.]\n",
      " [8.]\n",
      " [8.]\n",
      " [2.]\n",
      " [2.]\n",
      " [5.]\n",
      " [1.]\n",
      " [4.]\n",
      " [5.]\n",
      " [7.]\n",
      " [8.]\n",
      " [4.]\n",
      " [2.]\n",
      " [0.]\n",
      " [7.]\n",
      " [3.]\n",
      " [5.]\n",
      " [6.]\n",
      " [3.]\n",
      " [9.]\n",
      " [9.]\n",
      " [3.]\n",
      " [8.]\n",
      " [9.]\n",
      " [1.]\n",
      " [1.]\n",
      " [7.]\n",
      " [9.]\n",
      " [5.]\n",
      " [3.]\n",
      " [2.]\n",
      " [9.]\n",
      " [8.]\n",
      " [5.]\n",
      " [8.]\n",
      " [0.]\n",
      " [2.]\n",
      " [8.]\n",
      " [9.]\n",
      " [5.]\n",
      " [0.]\n",
      " [0.]\n",
      " [2.]\n",
      " [9.]\n",
      " [2.]\n",
      " [4.]\n",
      " [9.]\n",
      " [2.]\n",
      " [6.]\n",
      " [1.]\n",
      " [4.]\n",
      " [3.]\n",
      " [7.]\n",
      " [8.]\n",
      " [1.]\n",
      " [7.]\n",
      " [1.]\n",
      " [3.]\n",
      " [6.]\n",
      " [9.]\n",
      " [9.]\n",
      " [6.]\n",
      " [8.]\n",
      " [5.]\n",
      " [8.]\n",
      " [2.]\n",
      " [8.]\n",
      " [0.]\n",
      " [6.]\n",
      " [2.]\n",
      " [5.]\n",
      " [4.]\n",
      " [9.]\n",
      " [8.]\n",
      " [0.]\n",
      " [6.]\n",
      " [8.]\n",
      " [4.]\n",
      " [1.]\n",
      " [3.]\n",
      " [2.]\n",
      " [1.]\n",
      " [9.]\n",
      " [4.]\n",
      " [7.]\n",
      " [0.]\n",
      " [8.]\n",
      " [3.]\n",
      " [6.]], shape=(128, 1), dtype=float32)\n"
     ]
    }
   ],
   "source": [
    "for imgs, labels in ds_train:\n",
    "    print(tf.shape(imgs))\n",
    "    print(tf.shape(labels))\n",
    "    print(labels)\n",
    "    break"
   ]
  }
 ],
 "metadata": {
  "kernelspec": {
   "display_name": "Python 3 (ipykernel)",
   "language": "python",
   "name": "python3"
  },
  "language_info": {
   "codemirror_mode": {
    "name": "ipython",
    "version": 3
   },
   "file_extension": ".py",
   "mimetype": "text/x-python",
   "name": "python",
   "nbconvert_exporter": "python",
   "pygments_lexer": "ipython3",
   "version": "3.8.13"
  }
 },
 "nbformat": 4,
 "nbformat_minor": 5
}