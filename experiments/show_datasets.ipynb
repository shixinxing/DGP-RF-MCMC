{
 "cells": [
  {
   "cell_type": "markdown",
   "id": "3af8cb04",
   "metadata": {},
   "source": [
    "# Load UCI Datasets"
   ]
  },
  {
   "cell_type": "code",
   "execution_count": 1,
   "id": "f0c4d8b6",
   "metadata": {
    "pycharm": {
     "name": "#%%\n"
    }
   },
   "outputs": [],
   "source": [
    "from utils_dataset import download_UCI_data_info, load_UCI_dataset\n",
    "data_path = './data/'\n",
    "batch_size = 2"
   ]
  },
  {
   "cell_type": "code",
   "execution_count": 2,
   "id": "c6196152",
   "metadata": {
    "pycharm": {
     "name": "#%%\n"
    }
   },
   "outputs": [],
   "source": [
    "def show_data(name):\n",
    "    X, Y, Xs, Ys, X_mean, X_std, Y_mean = download_UCI_data_info(name, data_path=data_path)\n",
    "    ds_train, ds_test, train_full_size, test_full_size = load_UCI_dataset(name, batch_size=batch_size, data_dir=data_path)\n",
    "    print(f\"print the first row of X: {X[0]}\")\n",
    "    print(\" \")\n",
    "    print(\"print the first training batch:\")\n",
    "    for x, y in ds_train:\n",
    "        print(f\"batch X: {x}\")\n",
    "        print(f\"batch Y: {y}\")\n",
    "        break\n",
    "    print(\" \")\n",
    "    print(\"print the first test batch:\")\n",
    "    for x, y in ds_test:\n",
    "        print(f\"batch X: {x}\")\n",
    "        print(f\"batch Y: {y}\")\n",
    "        break"
   ]
  },
  {
   "cell_type": "code",
   "execution_count": 3,
   "id": "53619d51",
   "metadata": {},
   "outputs": [
    {
     "name": "stdout",
     "output_type": "stream",
     "text": [
      "############################## Getting data info:dataset name: kin8nm ##############################\n",
      "D: 8, N: 7372, Ns: 820\n",
      "X_mean: [ 0.00989596 -0.00660507  0.02318455 -0.01878159  0.00812434 -0.01076208\n",
      "  0.00952275 -0.00275808], X_std: [0.90750458 0.90019922 0.89892434 0.89831418 0.90763591 0.91333792\n",
      " 0.90826729 0.90651058], Y_mean: [0.71461049]\n",
      "######################################################################\n",
      "Metal device set to: Apple M1 Pro\n",
      "print the first row of X: [-0.78686523 -0.78982803 -0.81377523 -0.01082188 -0.06170247  0.93723631\n",
      " -0.26418179 -0.9061528 ]\n",
      " \n",
      "print the first training batch:\n",
      "batch X: [[ 0.19943871 -1.73548787 -1.09908597 -0.70783389  0.05906726 -0.10069436\n",
      "   1.12985017  0.12088464]\n",
      " [-1.47782214  1.06053874  1.69198306  0.51678947  0.89604403 -0.57410323\n",
      "  -0.74183454  0.37046402]]\n",
      "batch Y: [[ 0.41467561]\n",
      " [-0.02184388]]\n",
      " \n",
      "print the first test batch:\n",
      "batch X: [[ 0.93451949  0.4766581   1.58019857 -0.64324779  1.04074479  0.28170873\n",
      "  -1.70229377  1.18141354]\n",
      " [-0.82496815  0.36807184  1.30949848  0.82409152 -0.68740699 -1.54582843\n",
      "  -1.35796606 -0.89375842]]\n",
      "batch Y: [[-0.17492122]\n",
      " [ 0.07952716]]\n"
     ]
    },
    {
     "name": "stderr",
     "output_type": "stream",
     "text": [
      "2022-06-27 01:18:35.251699: I tensorflow/core/common_runtime/pluggable_device/pluggable_device_factory.cc:305] Could not identify NUMA node of platform GPU ID 0, defaulting to 0. Your kernel may not have been built with NUMA support.\n",
      "2022-06-27 01:18:35.251819: I tensorflow/core/common_runtime/pluggable_device/pluggable_device_factory.cc:271] Created TensorFlow device (/job:localhost/replica:0/task:0/device:GPU:0 with 0 MB memory) -> physical PluggableDevice (device: 0, name: METAL, pci bus id: <undefined>)\n"
     ]
    }
   ],
   "source": [
    "show_data(\"kin8nm\")"
   ]
  },
  {
   "cell_type": "code",
   "execution_count": 4,
   "id": "588b8e12",
   "metadata": {},
   "outputs": [
    {
     "name": "stdout",
     "output_type": "stream",
     "text": [
      "############################## Getting data info:dataset name: boston ##############################\n",
      "D: 13, N: 455, Ns: 51\n",
      "X_mean: [1.73783440e+00 1.11384615e+01 1.12244396e+01 7.25274725e-02\n",
      " 5.56577363e-01 6.29230989e+00 6.90545055e+01 3.65948154e+00\n",
      " 4.34725275e+00 4.08547253e+02 1.84810989e+01 3.55512527e+02\n",
      " 1.26464176e+01], X_std: [2.65015983e+00 2.31054819e+01 6.77541590e+00 2.59360284e-01\n",
      " 1.16101989e-01 7.15843593e-01 2.79006091e+01 2.00507150e+00\n",
      " 1.43667456e+00 1.66893405e+02 2.16276147e+00 9.29518340e+01\n",
      " 7.10203619e+00], Y_mean: [22.65626374]\n",
      "######################################################################\n",
      "print the first row of X: [-0.63037496 -0.48207008 -1.17844272 -0.27963986 -0.83183211  0.05684218\n",
      " -1.85854385  0.77559252 -0.24170592  0.12854161 -0.73105561  0.21191053\n",
      " -0.74716848]\n",
      " \n",
      "print the first training batch:\n",
      "batch X: [[-0.58377777  0.47008491 -0.79175059 -0.27963986 -1.0816125   0.59466916\n",
      "  -1.8477914   2.07823933  1.84644966 -0.47064324  0.28616244  0.41126109\n",
      "  -0.85699614]\n",
      " [-0.20560813 -0.48207008  1.57415583 -0.27963986  0.58071906  0.04706351\n",
      "   1.02669782 -0.6924848  -0.24170592  0.17048455  1.2571433   0.44525719\n",
      "  -0.05440941]]\n",
      "batch Y: [[ 3.54373626]\n",
      " [-3.05626374]]\n",
      " \n",
      "print the first test batch:\n",
      "batch X: [[-0.64210633  2.98031172 -0.92605969 -0.27963986 -1.25387484  0.47173728\n",
      "  -1.63632648  0.72676633 -0.24170592 -0.97995036  0.33239962  0.44525719\n",
      "  -1.11889286]\n",
      " [ 0.23801795 -0.48207008  1.23321735 -0.27963986  2.70815893 -1.90867098\n",
      "   0.9550148  -1.09656017  0.45434594 -0.0332383  -1.74827365  0.38942182\n",
      "   2.37728758]]\n",
      "batch Y: [[ 5.24373626]\n",
      " [-8.05626374]]\n"
     ]
    }
   ],
   "source": [
    "show_data('boston')"
   ]
  },
  {
   "cell_type": "code",
   "execution_count": 5,
   "id": "411662b6",
   "metadata": {},
   "outputs": [
    {
     "name": "stdout",
     "output_type": "stream",
     "text": [
      "############################## Getting data info:dataset name: energy ##############################\n",
      "D: 8, N: 691, Ns: 77\n",
      "X_mean: [7.63950796e-01 6.71782200e+02 3.18748191e+02 1.76517004e+02\n",
      " 5.25759768e+00 3.47756874e+00 2.32995658e-01 2.82344428e+00], X_std: [ 0.10533291 87.82955794 43.82424848 45.03975451  1.74998451  1.11066651\n",
      "  0.13264471  1.54735306], Y_mean: [22.33689725]\n",
      "######################################################################\n",
      "print the first row of X: [-0.98687863  0.99872756 -0.00566333  0.9765372  -1.00435043 -0.42998392\n",
      "  1.25903504  0.11410177]\n",
      " \n",
      "print the first training batch:\n",
      "batch X: [[-1.366627    1.55662631  1.11243913  0.9765372  -1.00435043 -1.33034419\n",
      "   0.12819464  1.4066316 ]\n",
      " [-1.17675281  1.27767693  0.5533879   0.9765372  -1.00435043 -0.42998392\n",
      "  -1.00264576  0.76036668]]\n",
      "batch Y: [[-8.65689725]\n",
      " [-7.14689725]]\n",
      " \n",
      "print the first test batch:\n",
      "batch X: [[-1.366627    1.55662631  1.11243913  0.9765372  -1.00435043  0.47037635\n",
      "   0.12819464  0.11410177]\n",
      " [-0.98687863  0.99872756 -0.00566333  0.9765372  -1.00435043 -0.42998392\n",
      "  -1.00264576  1.4066316 ]]\n",
      "batch Y: [[ -8.38689725]\n",
      " [-10.99689725]]\n"
     ]
    }
   ],
   "source": [
    "show_data('energy')"
   ]
  },
  {
   "cell_type": "code",
   "execution_count": 6,
   "id": "f5de8a38",
   "metadata": {},
   "outputs": [
    {
     "name": "stdout",
     "output_type": "stream",
     "text": [
      "############################## Getting data info:dataset name: wine_red ##############################\n",
      "D: 11, N: 1439, Ns: 160\n",
      "X_mean: [ 8.30625434  0.5264246   0.27028492  2.53088951  0.08720917 15.85198054\n",
      " 46.33495483  0.99672735  3.311918    0.65384295 10.43123697], X_std: [1.72710250e+00 1.76577941e-01 1.95470861e-01 1.38127013e+00\n",
      " 4.55903844e-02 1.04614020e+01 3.27925879e+01 1.88705331e-03\n",
      " 1.52392422e-01 1.58660798e-01 1.07370918e+00], Y_mean: [5.6323836]\n",
      "######################################################################\n",
      "print the first row of X: [ 1.44388979 -0.31954501  0.81707872 -0.31195166  1.83790569  1.0656334\n",
      "  0.59967958  0.78039537 -0.93126677  0.66908181  0.34344778]\n",
      " \n",
      "print the first training batch:\n",
      "batch X: [[-0.69842661 -0.37617723 -0.35956725 -0.45674593 -0.22393259  1.16122289\n",
      "   0.23374322 -0.59741414  0.38113445 -0.08724869 -0.02909258]\n",
      " [-0.11942218  1.43605367 -0.20609169  0.05003402 -0.61875269 -1.0373352\n",
      "  -0.95554992  0.14448329  0.38113445 -0.59146902  0.80912322]]\n",
      "batch Y: [[ 0.3676164]\n",
      " [-0.6323836]]\n",
      " \n",
      "print the first test batch:\n",
      "batch X: [[-0.23522307 -1.05576382  0.45896907 -0.45674593 -0.48714599 -1.0373352\n",
      "  -1.1080234  -1.34461084 -0.27506616 -0.7175241   0.71598813]\n",
      " [ 0.17008004 -0.20628058  0.04970091 -0.45674593  0.49990425  0.39650703\n",
      "   2.7343083   0.25046864 -2.50614823  8.16935921 -0.49476803]]\n",
      "batch Y: [[1.3676164]\n",
      " [0.3676164]]\n"
     ]
    }
   ],
   "source": [
    "show_data('wine_red')"
   ]
  },
  {
   "cell_type": "code",
   "execution_count": 7,
   "id": "e6bdf809",
   "metadata": {},
   "outputs": [
    {
     "name": "stdout",
     "output_type": "stream",
     "text": [
      "############################## Getting data info:dataset name: wine_white ##############################\n",
      "D: 11, N: 4408, Ns: 490\n",
      "X_mean: [6.85445780e+00 2.78352995e-01 3.34278584e-01 6.40485481e+00\n",
      " 4.58945100e-02 3.53289474e+01 1.38210299e+02 9.94031556e-01\n",
      " 3.18767922e+00 4.89024501e-01 1.05096370e+01], X_std: [8.47756110e-01 1.00780902e-01 1.22168273e-01 5.04812403e+00\n",
      " 2.25634559e-02 1.70512743e+01 4.25449904e+01 2.97922271e-03\n",
      " 1.51155929e-01 1.14391602e-01 1.22770690e+00], Y_mean: [5.86978221]\n",
      "######################################################################\n",
      "print the first row of X: [ 0.52555469  0.41324303  0.12868657 -0.99142865  0.18195307 -1.60275102\n",
      "  0.58267026 -0.53421863  0.3461378  -0.60340532  0.15505572]\n",
      " \n",
      "print the first training batch:\n",
      "batch X: [[ 0.17167932  0.21479273  1.27464694 -0.33772047 -0.43851926 -1.07493123\n",
      "  -0.78059248 -0.81617136  0.47845149  1.6694888   1.53975105]\n",
      " [-1.12586367 -0.77745875 -0.44429362 -1.07066601 -0.1282831   0.56717477\n",
      "  -0.89811513 -1.24245705  1.40464738 -0.69082432  0.72522438]]\n",
      "batch Y: [[1.13021779]\n",
      " [0.13021779]]\n",
      " \n",
      "print the first test batch:\n",
      "batch X: [[-0.77198831  0.61169333 -0.68985656  1.12817062  0.58082814 -0.13658495\n",
      "   0.7707065   1.22798599 -0.31543069  0.62046075 -1.47399761]\n",
      " [ 1.11534696 -0.67823361  1.27464694 -1.00133332  0.27059197 -1.72004431\n",
      "  -2.12035068 -0.98400037 -0.24927384 -1.82727138  0.72522438]]\n",
      "batch Y: [[ 0.13021779]\n",
      " [-0.86978221]]\n"
     ]
    }
   ],
   "source": [
    "show_data('wine_white')"
   ]
  },
  {
   "cell_type": "markdown",
   "id": "39078137",
   "metadata": {},
   "source": [
    "# Load Classification Datasets"
   ]
  },
  {
   "cell_type": "markdown",
   "id": "0ce0ebcf",
   "metadata": {
    "pycharm": {
     "name": "#%%\n"
    }
   },
   "source": [
    "## demo"
   ]
  },
  {
   "cell_type": "code",
   "execution_count": 8,
   "id": "b56c2ca7",
   "metadata": {
    "pycharm": {
     "name": "#%%\n"
    }
   },
   "outputs": [
    {
     "name": "stdout",
     "output_type": "stream",
     "text": [
      "tf.Tensor([6 3 1], shape=(3,), dtype=int64)\n",
      "tf.Tensor([2 4 9], shape=(3,), dtype=int64)\n",
      "tf.Tensor([7 5 0], shape=(3,), dtype=int64)\n",
      "tf.Tensor([8], shape=(1,), dtype=int64)\n"
     ]
    }
   ],
   "source": [
    "import tensorflow as tf\n",
    "\n",
    "ds = tf.data.Dataset.range(10)\n",
    "ds = ds.shuffle(10)\n",
    "ds = ds.batch(3) # shuffle first, then batch\n",
    "for d in ds:\n",
    "    print(d)"
   ]
  },
  {
   "cell_type": "code",
   "execution_count": 9,
   "id": "eeb5a361",
   "metadata": {
    "pycharm": {
     "name": "#%%\n"
    }
   },
   "outputs": [],
   "source": [
    "from utils_dataset import load_tf_dataset, normalize_MNIST\n",
    "import numpy as np\n",
    "from matplotlib import pyplot as plt\n",
    "batch_size = 2\n",
    "data_dir = './tensorflow_datasets/'"
   ]
  },
  {
   "cell_type": "markdown",
   "id": "d7201bcb",
   "metadata": {},
   "source": [
    "## load MNIST"
   ]
  },
  {
   "cell_type": "code",
   "execution_count": 10,
   "id": "af77cc23",
   "metadata": {},
   "outputs": [
    {
     "name": "stderr",
     "output_type": "stream",
     "text": [
      "2022-06-27 01:18:35.817957: W tensorflow/core/platform/profile_utils/cpu_utils.cc:128] Failed to get CPU frequency: 0 Hz\n"
     ]
    },
    {
     "name": "stdout",
     "output_type": "stream",
     "text": [
      "Image batch shape: [  2 784]\n",
      "Label bathc shape: [2 1]\n",
      "Imgs are: [[-0.5 -0.5 -0.5 ... -0.5 -0.5 -0.5]\n",
      " [-0.5 -0.5 -0.5 ... -0.5 -0.5 -0.5]]\n",
      "labels are: [[9.]\n",
      " [6.]]\n",
      "The label is [9.].\n"
     ]
    },
    {
     "data": {
      "image/png": "[encoded data removed]",
      "text/plain": [
       "<Figure size 432x288 with 2 Axes>"
      ]
     },
     "metadata": {
      "needs_background": "light"
     },
     "output_type": "display_data"
    }
   ],
   "source": [
    "ds_train, ds_test, _, _ = load_tf_dataset('mnist', batch_size=batch_size, \n",
    "                                          transform_fn=normalize_MNIST, data_dir=data_dir)\n",
    "\n",
    "for imgs, labels in ds_train:\n",
    "    print(f\"Image batch shape: {tf.shape(imgs)}\")\n",
    "    print(f\"Label bathc shape: {tf.shape(labels)}\")\n",
    "    print(f\"Imgs are: {imgs}\")\n",
    "    print(f\"labels are: {labels}\")\n",
    "    img = imgs[0].numpy()\n",
    "    label = labels[0].numpy()\n",
    "    break\n",
    "\n",
    "img = np.reshape(img, [28, 28, 1])\n",
    "plt.imshow(img)\n",
    "plt.colorbar()\n",
    "print(f\"The label is {label}.\")"
   ]
  }
 ],
 "metadata": {
  "kernelspec": {
   "display_name": "Python 3 (ipykernel)",
   "language": "python",
   "name": "python3"
  },
  "language_info": {
   "codemirror_mode": {
    "name": "ipython",
    "version": 3
   },
   "file_extension": ".py",
   "mimetype": "text/x-python",
   "name": "python",
   "nbconvert_exporter": "python",
   "pygments_lexer": "ipython3",
   "version": "3.8.13"
  }
 },
 "nbformat": 4,
 "nbformat_minor": 5
}