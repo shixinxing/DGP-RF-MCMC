{
 "cells": [
  {
   "cell_type": "code",
   "execution_count": 1,
   "id": "721c1ffd",
   "metadata": {},
   "outputs": [],
   "source": [
    "from datasets import Datasets\n",
    "datasets = Datasets(data_path='./data/')"
   ]
  },
  {
   "cell_type": "code",
   "execution_count": 2,
   "id": "bfb44e5b",
   "metadata": {},
   "outputs": [],
   "source": [
    "def show_data(name):\n",
    "    dataset = datasets.all_datasets[name]\n",
    "    data = dataset.get_data()\n",
    "    X, Y, Xs, Ys, X_mean, X_std, Y_mean = [data[_] for _ in ['X', 'Y', 'Xs', 'Ys', 'X_mean', 'X_std', 'Y_mean']]\n",
    "    print(f\"dataset name: {dataset.name}\")\n",
    "    assert dataset.N == X.shape[0] + Xs.shape[0], f\"N + Ns does not match dataset.N (should be {N + Ns})! \"\n",
    "    assert dataset.D == X.shape[1], f\"D does not match dataset.D(should be {X.shape[1]})!\"\n",
    "    print(f\"D: {X.shape[1]}, N: {X.shape[0]}, Ns: {Xs.shape[0]}\")\n",
    "    print(f\"X_mean: {X_mean}, X_std: {X_std}, Y_mean: {Y_mean}\")\n",
    "    print(f\"print the first row of X: {X[0]}\")"
   ]
  },
  {
   "cell_type": "code",
   "execution_count": 3,
   "id": "53619d51",
   "metadata": {},
   "outputs": [
    {
     "name": "stdout",
     "output_type": "stream",
     "text": [
      "dataset name: kin8nm\n",
      "D: 8, N: 7372, Ns: 820\n",
      "X_mean: [ 0.00989596 -0.00660507  0.02318455 -0.01878159  0.00812434 -0.01076208\n",
      "  0.00952275 -0.00275808], X_std: [0.90750458 0.90019922 0.89892434 0.89831418 0.90763591 0.91333792\n",
      " 0.90826729 0.90651058], Y_mean: [0.71461049]\n",
      "print the first row of X: [-0.78686523 -0.78982803 -0.81377523 -0.01082188 -0.06170247  0.93723631\n",
      " -0.26418179 -0.9061528 ]\n"
     ]
    }
   ],
   "source": [
    "show_data(\"kin8nm\")"
   ]
  },
  {
   "cell_type": "code",
   "execution_count": 4,
   "id": "588b8e12",
   "metadata": {},
   "outputs": [
    {
     "name": "stdout",
     "output_type": "stream",
     "text": [
      "dataset name: boston\n",
      "D: 13, N: 455, Ns: 51\n",
      "X_mean: [1.73783440e+00 1.11384615e+01 1.12244396e+01 7.25274725e-02\n",
      " 5.56577363e-01 6.29230989e+00 6.90545055e+01 3.65948154e+00\n",
      " 4.34725275e+00 4.08547253e+02 1.84810989e+01 3.55512527e+02\n",
      " 1.26464176e+01], X_std: [2.65015983e+00 2.31054819e+01 6.77541590e+00 2.59360284e-01\n",
      " 1.16101989e-01 7.15843593e-01 2.79006091e+01 2.00507150e+00\n",
      " 1.43667456e+00 1.66893405e+02 2.16276147e+00 9.29518340e+01\n",
      " 7.10203619e+00], Y_mean: [22.65626374]\n",
      "print the first row of X: [-0.63037496 -0.48207008 -1.17844272 -0.27963986 -0.83183211  0.05684218\n",
      " -1.85854385  0.77559252 -0.24170592  0.12854161 -0.73105561  0.21191053\n",
      " -0.74716848]\n"
     ]
    }
   ],
   "source": [
    "show_data('boston')"
   ]
  },
  {
   "cell_type": "code",
   "execution_count": 5,
   "id": "411662b6",
   "metadata": {},
   "outputs": [
    {
     "name": "stdout",
     "output_type": "stream",
     "text": [
      "dataset name: energy\n",
      "D: 8, N: 691, Ns: 77\n",
      "X_mean: [7.63950796e-01 6.71782200e+02 3.18748191e+02 1.76517004e+02\n",
      " 5.25759768e+00 3.47756874e+00 2.32995658e-01 2.82344428e+00], X_std: [ 0.10533291 87.82955794 43.82424848 45.03975451  1.74998451  1.11066651\n",
      "  0.13264471  1.54735306], Y_mean: [22.33689725]\n",
      "print the first row of X: [-0.98687863  0.99872756 -0.00566333  0.9765372  -1.00435043 -0.42998392\n",
      "  1.25903504  0.11410177]\n"
     ]
    }
   ],
   "source": [
    "show_data('energy')"
   ]
  },
  {
   "cell_type": "code",
   "execution_count": 6,
   "id": "f5de8a38",
   "metadata": {},
   "outputs": [
    {
     "name": "stdout",
     "output_type": "stream",
     "text": [
      "dataset name: wine_red\n",
      "D: 11, N: 1439, Ns: 160\n",
      "X_mean: [ 8.30625434  0.5264246   0.27028492  2.53088951  0.08720917 15.85198054\n",
      " 46.33495483  0.99672735  3.311918    0.65384295 10.43123697], X_std: [1.72710250e+00 1.76577941e-01 1.95470861e-01 1.38127013e+00\n",
      " 4.55903844e-02 1.04614020e+01 3.27925879e+01 1.88705331e-03\n",
      " 1.52392422e-01 1.58660798e-01 1.07370918e+00], Y_mean: [5.6323836]\n",
      "print the first row of X: [ 1.44388979 -0.31954501  0.81707872 -0.31195166  1.83790569  1.0656334\n",
      "  0.59967958  0.78039537 -0.93126677  0.66908181  0.34344778]\n"
     ]
    }
   ],
   "source": [
    "show_data('wine_red')"
   ]
  },
  {
   "cell_type": "code",
   "execution_count": 7,
   "id": "e6bdf809",
   "metadata": {},
   "outputs": [
    {
     "name": "stdout",
     "output_type": "stream",
     "text": [
      "dataset name: wine_white\n",
      "D: 11, N: 4408, Ns: 490\n",
      "X_mean: [6.85445780e+00 2.78352995e-01 3.34278584e-01 6.40485481e+00\n",
      " 4.58945100e-02 3.53289474e+01 1.38210299e+02 9.94031556e-01\n",
      " 3.18767922e+00 4.89024501e-01 1.05096370e+01], X_std: [8.47756110e-01 1.00780902e-01 1.22168273e-01 5.04812403e+00\n",
      " 2.25634559e-02 1.70512743e+01 4.25449904e+01 2.97922271e-03\n",
      " 1.51155929e-01 1.14391602e-01 1.22770690e+00], Y_mean: [5.86978221]\n",
      "print the first row of X: [ 0.52555469  0.41324303  0.12868657 -0.99142865  0.18195307 -1.60275102\n",
      "  0.58267026 -0.53421863  0.3461378  -0.60340532  0.15505572]\n"
     ]
    }
   ],
   "source": [
    "show_data('wine_white')"
   ]
  }
 ],
 "metadata": {
  "kernelspec": {
   "display_name": "Python 3 (ipykernel)",
   "language": "python",
   "name": "python3"
  },
  "language_info": {
   "codemirror_mode": {
    "name": "ipython",
    "version": 3
   },
   "file_extension": ".py",
   "mimetype": "text/x-python",
   "name": "python",
   "nbconvert_exporter": "python",
   "pygments_lexer": "ipython3",
   "version": "3.8.13"
  }
 },
 "nbformat": 4,
 "nbformat_minor": 5
}